{
  "nbformat": 4,
  "nbformat_minor": 0,
  "metadata": {
    "accelerator": "GPU",
    "colab": {
      "provenance": [],
      "collapsed_sections": [
        "5OC5gRsAgr0G",
        "mmTngZ4MfkPa",
        "h82NxOsRYDCi",
        "YRuDxlqdTiw_"
      ]
    },
    "kernelspec": {
      "display_name": "Python 3",
      "name": "python3"
    },
    "language_info": {
      "name": "python"
    }
  },
  "cells": [
    {
      "cell_type": "markdown",
      "metadata": {
        "id": "5OC5gRsAgr0G"
      },
      "source": [
        "## **LIBRARY**"
      ]
    },
    {
      "cell_type": "code",
      "metadata": {
        "id": "8fi28uQWMuTf"
      },
      "source": [
        "import numpy as np\n",
        "import pandas as pd\n",
        "import matplotlib.pyplot as plt\n",
        "\n",
        "from tensorflow.keras.datasets import fashion_mnist\n",
        "from keras.utils.np_utils import to_categorical\n",
        "from keras.models import Sequential\n",
        "\n",
        "from keras.layers import Conv1D\n",
        "from keras.layers import MaxPooling1D, GlobalAveragePooling1D\n",
        "from keras.layers import Conv2D\n",
        "from keras.layers import MaxPooling2D\n",
        "from keras.regularizers import l2\n",
        "\n",
        "from keras.layers import Dense\n",
        "from keras.layers import Flatten\n",
        "from keras.layers import Dropout\n",
        "\n",
        "from sklearn.decomposition import PCA\n",
        "from sklearn.preprocessing import OneHotEncoder\n",
        "from sklearn.preprocessing import MinMaxScaler\n",
        "from sklearn.model_selection import train_test_split"
      ],
      "execution_count": null,
      "outputs": []
    },
    {
      "cell_type": "markdown",
      "metadata": {
        "id": "mmTngZ4MfkPa"
      },
      "source": [
        "## **FUNCTIONS USED**"
      ]
    },
    {
      "cell_type": "code",
      "metadata": {
        "id": "xnO4EB8Ifn-i"
      },
      "source": [
        "def pixelscale(x_train, x_test, x_val):\n",
        "    x_train = x_train.astype('float32')\n",
        "    x_test = x_test.astype('float32')\n",
        "    x_val = x_val.astype('float32')\n",
        "\n",
        "    x_train = x_train / 255.0\n",
        "    x_test = x_test / 255.0\n",
        "    x_val = x_val / 255.0\n",
        "\n",
        "    return x_train, x_test, x_val"
      ],
      "execution_count": null,
      "outputs": []
    },
    {
      "cell_type": "code",
      "metadata": {
        "id": "wNBfMClMgKJm"
      },
      "source": [
        "def CNN2D():\n",
        "    model = Sequential()\n",
        "    \n",
        "    model.add(Conv2D(32, (3, 3), activation='relu', kernel_initializer='he_uniform', input_shape=(28, 28, 1)))\n",
        "    \n",
        "    model.add(MaxPooling2D((2, 2)))\n",
        "\n",
        "    model.add(Conv2D(64, kernel_size = (3,3), activation = 'relu'))\n",
        "\n",
        "    model.add(MaxPooling2D(pool_size=(2,2)))\n",
        "\n",
        "    model.add(Flatten())\n",
        "\n",
        "    model.add(Dense(10, activation='softmax'))\n",
        "    \n",
        "    model.compile(optimizer='adam', loss='categorical_crossentropy', metrics=['accuracy'])\n",
        "    \n",
        "    return model"
      ],
      "execution_count": null,
      "outputs": []
    },
    {
      "cell_type": "code",
      "metadata": {
        "id": "aOQ7PrHT4F2l"
      },
      "source": [
        "def CNN1D():\n",
        "    model = Sequential()\n",
        "    model.add(Conv1D(64, 3, activation='relu',  kernel_initializer='he_normal', input_shape=(10001, 1)))\n",
        "\n",
        "    model.add(MaxPooling1D(2))\n",
        "\n",
        "    model.add(Conv1D(64, 3, activation='relu'))\n",
        "    model.add(MaxPooling1D(2))\n",
        "\n",
        "    model.add(Dense(64, activation='relu', kernel_initializer='he_normal'))\n",
        "\n",
        "    model.add(GlobalAveragePooling1D())\n",
        "\n",
        "\n",
        "    model.add(Dropout(0.4))\n",
        "\n",
        "    model.add(Dense(2, activation='softmax'))\n",
        "    \n",
        "\n",
        "    model.compile(optimizer='adam', loss='categorical_crossentropy', metrics=['accuracy'])\n",
        "    \n",
        "    return model"
      ],
      "execution_count": null,
      "outputs": []
    },
    {
      "cell_type": "code",
      "metadata": {
        "id": "A3Q-ACrjaMbn"
      },
      "source": [
        "def convert(arr):\n",
        "    l = []\n",
        "    for i in range(arr.shape[0]):\n",
        "        l.append(arr[i].flatten())\n",
        "    l=np.array(l)\n",
        "    return l"
      ],
      "execution_count": null,
      "outputs": []
    },
    {
      "cell_type": "markdown",
      "source": [
        "# Principal Component Analysis on the Fashion MNIST Data\n",
        "\n",
        "With Principal Components (PCs) analysis I hope to find PCs that allow me to represent the most samples with much less dimensions. I performed PCA the data by using the PCA class from sklearn."
      ],
      "metadata": {
        "id": "bwgI0JSW6KG8"
      }
    },
    {
      "cell_type": "code",
      "metadata": {
        "id": "tvDzY4KKbMbr"
      },
      "source": [
        "def getPCA(n, train, test, val):\n",
        "    pca = PCA(n_components = n)\n",
        "    pca = pca.fit(train)\n",
        "\n",
        "    train = pca.transform(train)\n",
        "    test = pca.transform(test)\n",
        "    val = pca.transform(val)\n",
        "    var = np.sum(pca.explained_variance_ratio_)\n",
        "\n",
        "    return pca, train, test, val, var"
      ],
      "execution_count": null,
      "outputs": []
    },
    {
      "cell_type": "code",
      "metadata": {
        "id": "uhnJuQd7vXZu"
      },
      "source": [
        "def plot_eval(history):\n",
        "    # Accuracy history plotting\n",
        "    plt.plot(history.history['accuracy'])\n",
        "    plt.plot(history.history['val_accuracy'])\n",
        "    plt.title('MODEL ACCURACY')\n",
        "    plt.ylabel('Accuracy')\n",
        "    plt.xlabel('Epoch')\n",
        "    plt.legend(['train', 'test'], loc='upper left')\n",
        "    plt.show()\n",
        "    print()\n",
        "    # Loss history plotting\n",
        "    plt.plot(history.history['loss'])\n",
        "    plt.plot(history.history['val_loss'])\n",
        "    plt.title('MODEL LOSS')\n",
        "    plt.ylabel('Loss')\n",
        "    plt.xlabel('Epoch')\n",
        "    plt.legend(['train', 'test'], loc='upper left')\n",
        "    plt.show()"
      ],
      "execution_count": null,
      "outputs": []
    },
    {
      "cell_type": "markdown",
      "metadata": {
        "id": "gcLg2FQ2iT65"
      },
      "source": [
        "## **FASHION MNIST DATASET**"
      ]
    },
    {
      "cell_type": "markdown",
      "metadata": {
        "id": "YRuDxlqdTiw_"
      },
      "source": [
        "#### 1) IMPORT AND PRE-PROCESSING DATASET"
      ]
    },
    {
      "cell_type": "markdown",
      "metadata": {
        "id": "jL0VG3hcDMgC"
      },
      "source": [
        "> Import dataset dari *keras library*"
      ]
    },
    {
      "cell_type": "code",
      "metadata": {
        "id": "uyKskOoBOzmo",
        "colab": {
          "base_uri": "https://localhost:8080/"
        },
        "outputId": "9eadb8d7-11eb-4fe1-ddcf-b8dc3021701b"
      },
      "source": [
        "(x_train, y_train), (x_test, y_test) = fashion_mnist.load_data()"
      ],
      "execution_count": null,
      "outputs": [
        {
          "output_type": "stream",
          "name": "stdout",
          "text": [
            "Downloading data from https://storage.googleapis.com/tensorflow/tf-keras-datasets/train-labels-idx1-ubyte.gz\n",
            "29515/29515 [==============================] - 0s 0us/step\n",
            "Downloading data from https://storage.googleapis.com/tensorflow/tf-keras-datasets/train-images-idx3-ubyte.gz\n",
            "26421880/26421880 [==============================] - 0s 0us/step\n",
            "Downloading data from https://storage.googleapis.com/tensorflow/tf-keras-datasets/t10k-labels-idx1-ubyte.gz\n",
            "5148/5148 [==============================] - 0s 0us/step\n",
            "Downloading data from https://storage.googleapis.com/tensorflow/tf-keras-datasets/t10k-images-idx3-ubyte.gz\n",
            "4422102/4422102 [==============================] - 0s 0us/step\n"
          ]
        }
      ]
    },
    {
      "cell_type": "code",
      "metadata": {
        "id": "P_eHzWCRg27F"
      },
      "source": [
        "x_train = np.reshape(x_train, (x_train.shape[0], 28, 28, 1))\n",
        "x_test = np.reshape(x_test, (x_test.shape[0], 28, 28, 1))\n",
        "y_train = to_categorical(y_train)\n",
        "y_test = to_categorical(y_test)"
      ],
      "execution_count": null,
      "outputs": []
    },
    {
      "cell_type": "code",
      "metadata": {
        "id": "J3jGNGdtXprD"
      },
      "source": [
        "x_test, x_val, y_test, y_val = train_test_split(x_test, y_test, train_size=0.6, random_state=1)"
      ],
      "execution_count": null,
      "outputs": []
    },
    {
      "cell_type": "code",
      "metadata": {
        "colab": {
          "base_uri": "https://localhost:8080/"
        },
        "id": "MQssNBTOEC8k",
        "outputId": "9788751c-42a8-404a-8d26-9732e3c73600"
      },
      "source": [
        "print(f\"x_train shape\\t: {x_train.shape}\")\n",
        "print(f\"x_test shape\\t: {x_test.shape}\")\n",
        "print(f\"x_val shape\\t: {x_val.shape}\")"
      ],
      "execution_count": null,
      "outputs": [
        {
          "output_type": "stream",
          "name": "stdout",
          "text": [
            "x_train shape\t: (60000, 28, 28, 1)\n",
            "x_test shape\t: (6000, 28, 28, 1)\n",
            "x_val shape\t: (4000, 28, 28, 1)\n"
          ]
        }
      ]
    },
    {
      "cell_type": "code",
      "metadata": {
        "id": "XPKH5EhjmuHb"
      },
      "source": [
        "x_train, x_test, x_val = pixelscale(x_train, x_test, x_val)"
      ],
      "execution_count": null,
      "outputs": []
    },
    {
      "cell_type": "markdown",
      "metadata": {
        "id": "eu43pgfJTlg8"
      },
      "source": [
        "#### 2) CNN IMPLEMENTATION (without PCA)"
      ]
    },
    {
      "cell_type": "code",
      "metadata": {
        "colab": {
          "base_uri": "https://localhost:8080/"
        },
        "id": "Ak4jmXZhLeqQ",
        "outputId": "9e135e7e-2b18-4029-ea3c-7717452477aa"
      },
      "source": [
        "# CONSTRUCT AND TRAIN THE MODEL\n",
        "model = CNN2D()\n",
        "his = model.fit(x_train, y_train, epochs=20, batch_size=250, validation_data=(x_val, y_val), verbose=1)"
      ],
      "execution_count": null,
      "outputs": [
        {
          "output_type": "stream",
          "name": "stdout",
          "text": [
            "Epoch 1/20\n",
            "240/240 [==============================] - 50s 203ms/step - loss: 0.6157 - accuracy: 0.7819 - val_loss: 0.4381 - val_accuracy: 0.8388\n",
            "Epoch 2/20\n",
            "240/240 [==============================] - 47s 196ms/step - loss: 0.3733 - accuracy: 0.8671 - val_loss: 0.3751 - val_accuracy: 0.8668\n",
            "Epoch 3/20\n",
            "240/240 [==============================] - 47s 196ms/step - loss: 0.3317 - accuracy: 0.8810 - val_loss: 0.3450 - val_accuracy: 0.8758\n",
            "Epoch 4/20\n",
            "240/240 [==============================] - 46s 191ms/step - loss: 0.3035 - accuracy: 0.8916 - val_loss: 0.3252 - val_accuracy: 0.8875\n",
            "Epoch 5/20\n",
            "240/240 [==============================] - 46s 191ms/step - loss: 0.2841 - accuracy: 0.8982 - val_loss: 0.3236 - val_accuracy: 0.8845\n",
            "Epoch 6/20\n",
            "240/240 [==============================] - 46s 191ms/step - loss: 0.2690 - accuracy: 0.9032 - val_loss: 0.3015 - val_accuracy: 0.8947\n",
            "Epoch 7/20\n",
            "240/240 [==============================] - 46s 191ms/step - loss: 0.2551 - accuracy: 0.9069 - val_loss: 0.2988 - val_accuracy: 0.8938\n",
            "Epoch 8/20\n",
            "240/240 [==============================] - 46s 190ms/step - loss: 0.2445 - accuracy: 0.9120 - val_loss: 0.2974 - val_accuracy: 0.8960\n",
            "Epoch 9/20\n",
            "240/240 [==============================] - 46s 191ms/step - loss: 0.2340 - accuracy: 0.9163 - val_loss: 0.3076 - val_accuracy: 0.8920\n",
            "Epoch 10/20\n",
            "240/240 [==============================] - 46s 191ms/step - loss: 0.2244 - accuracy: 0.9207 - val_loss: 0.2929 - val_accuracy: 0.8923\n",
            "Epoch 11/20\n",
            "240/240 [==============================] - 46s 190ms/step - loss: 0.2147 - accuracy: 0.9230 - val_loss: 0.2799 - val_accuracy: 0.9007\n",
            "Epoch 12/20\n",
            "240/240 [==============================] - 46s 190ms/step - loss: 0.2077 - accuracy: 0.9244 - val_loss: 0.2809 - val_accuracy: 0.8947\n",
            "Epoch 13/20\n",
            "240/240 [==============================] - 46s 190ms/step - loss: 0.2010 - accuracy: 0.9272 - val_loss: 0.2687 - val_accuracy: 0.9043\n",
            "Epoch 14/20\n",
            "240/240 [==============================] - 46s 190ms/step - loss: 0.1935 - accuracy: 0.9297 - val_loss: 0.2746 - val_accuracy: 0.8972\n",
            "Epoch 15/20\n",
            "240/240 [==============================] - 46s 190ms/step - loss: 0.1885 - accuracy: 0.9323 - val_loss: 0.2729 - val_accuracy: 0.9000\n",
            "Epoch 16/20\n",
            "240/240 [==============================] - 46s 190ms/step - loss: 0.1810 - accuracy: 0.9350 - val_loss: 0.2782 - val_accuracy: 0.8972\n",
            "Epoch 17/20\n",
            "240/240 [==============================] - 46s 190ms/step - loss: 0.1737 - accuracy: 0.9383 - val_loss: 0.2713 - val_accuracy: 0.9040\n",
            "Epoch 18/20\n",
            "240/240 [==============================] - 46s 190ms/step - loss: 0.1700 - accuracy: 0.9373 - val_loss: 0.2729 - val_accuracy: 0.9020\n",
            "Epoch 19/20\n",
            "240/240 [==============================] - 45s 189ms/step - loss: 0.1627 - accuracy: 0.9420 - val_loss: 0.2912 - val_accuracy: 0.8955\n",
            "Epoch 20/20\n",
            "240/240 [==============================] - 45s 189ms/step - loss: 0.1568 - accuracy: 0.9441 - val_loss: 0.2778 - val_accuracy: 0.9030\n"
          ]
        }
      ]
    },
    {
      "cell_type": "markdown",
      "metadata": {
        "id": "KxjLClEFExwR"
      },
      "source": [
        "> Melakukan evaluasi/testing pada model yang sudah dilakukan training sebelumnya dengan menggunakan testing dataset dengan batch_size yang sama yaitu sebesar 250."
      ]
    },
    {
      "cell_type": "code",
      "metadata": {
        "colab": {
          "base_uri": "https://localhost:8080/"
        },
        "id": "F-sgvcy7a4lf",
        "outputId": "23038f1d-a81c-42c1-acff-3690f8b598e7"
      },
      "source": [
        "# EVALUATE THE MODEL USING TEST DATASET\n",
        "model.evaluate(x_test, y_test, batch_size=250)"
      ],
      "execution_count": null,
      "outputs": [
        {
          "output_type": "stream",
          "name": "stdout",
          "text": [
            "24/24 [==============================] - 2s 68ms/step - loss: 0.2621 - accuracy: 0.9092\n"
          ]
        },
        {
          "output_type": "execute_result",
          "data": {
            "text/plain": [
              "[0.26212751865386963, 0.909166693687439]"
            ]
          },
          "metadata": {},
          "execution_count": 17
        }
      ]
    },
    {
      "cell_type": "markdown",
      "metadata": {
        "id": "KVuNi4vYFkHU"
      },
      "source": [
        "> Melakukan evaluation model plotting pada hasil training dan validation yang dilakukan sebelumnya pada 'model.fit'."
      ]
    },
    {
      "cell_type": "code",
      "metadata": {
        "colab": {
          "base_uri": "https://localhost:8080/",
          "height": 591
        },
        "id": "0CwtLJEI15HT",
        "outputId": "f227f570-9926-48e2-f8c9-87ea17f6e80e"
      },
      "source": [
        "plot_eval(his)"
      ],
      "execution_count": null,
      "outputs": [
        {
          "output_type": "display_data",
          "data": {
            "text/plain": [
              "<Figure size 432x288 with 1 Axes>"
            ],
            "image/png": "[encoded data removed]"
          },
          "metadata": {
            "needs_background": "light"
          }
        },
        {
          "output_type": "stream",
          "name": "stdout",
          "text": [
            "\n"
          ]
        },
        {
          "output_type": "display_data",
          "data": {
            "text/plain": [
              "<Figure size 432x288 with 1 Axes>"
            ],
            "image/png": "[encoded data removed]"
          },
          "metadata": {
            "needs_background": "light"
          }
        }
      ]
    },
    {
      "cell_type": "markdown",
      "metadata": {
        "id": "QdMk3P6LTuIY"
      },
      "source": [
        "#### 3) CNN IMPLEMENTATION (with PCA)"
      ]
    },
    {
      "cell_type": "code",
      "metadata": {
        "colab": {
          "base_uri": "https://localhost:8080/",
          "height": 302
        },
        "id": "67LTSzQEkQ11",
        "outputId": "abb08e6b-b63f-4273-d9ec-3db3116a49dd"
      },
      "source": [
        "img = x_train[21]\n",
        "img = img.reshape(img.shape[0], img.shape[1])\n",
        "print(img.shape)\n",
        "plt.imshow(img)"
      ],
      "execution_count": null,
      "outputs": [
        {
          "output_type": "stream",
          "name": "stdout",
          "text": [
            "(28, 28)\n"
          ]
        },
        {
          "output_type": "execute_result",
          "data": {
            "text/plain": [
              "<matplotlib.image.AxesImage at 0x7f0e1fa87b50>"
            ]
          },
          "metadata": {},
          "execution_count": 19
        },
        {
          "output_type": "display_data",
          "data": {
            "text/plain": [
              "<Figure size 432x288 with 1 Axes>"
            ],
            "image/png": "[encoded data removed]"
          },
          "metadata": {
            "needs_background": "light"
          }
        }
      ]
    },
    {
      "cell_type": "code",
      "metadata": {
        "id": "qom5iUEXafbE"
      },
      "source": [
        "x_train = convert(x_train)\n",
        "x_test = convert(x_test)\n",
        "x_val = convert(x_val)"
      ],
      "execution_count": null,
      "outputs": []
    },
    {
      "cell_type": "code",
      "metadata": {
        "colab": {
          "base_uri": "https://localhost:8080/"
        },
        "id": "Doye1hPlIdA2",
        "outputId": "019e799b-7395-4d75-c2dc-b833cd689d11"
      },
      "source": [
        "x_train.shape"
      ],
      "execution_count": null,
      "outputs": [
        {
          "output_type": "execute_result",
          "data": {
            "text/plain": [
              "(60000, 784)"
            ]
          },
          "metadata": {},
          "execution_count": 21
        }
      ]
    },
    {
      "cell_type": "code",
      "metadata": {
        "colab": {
          "base_uri": "https://localhost:8080/"
        },
        "id": "QigiIRJfU24I",
        "outputId": "c3c5d289-3567-4f94-efb2-d6ef8ac2d213"
      },
      "source": [
        "n = 250\n",
        "pca, pca_train, pca_test, pca_val, var = getPCA(n, x_train, x_test, x_val)\n",
        "print(f\"Variance Ratio: {var}\")"
      ],
      "execution_count": null,
      "outputs": [
        {
          "output_type": "stream",
          "name": "stdout",
          "text": [
            "Variance Ratio: 0.9647080898284912\n"
          ]
        }
      ]
    },
    {
      "cell_type": "code",
      "metadata": {
        "id": "DoYRcYFdX-gZ"
      },
      "source": [
        "temp1 = pca.inverse_transform(pca_train)\n",
        "temp2 = pca.inverse_transform(pca_test)\n",
        "temp3 = pca.inverse_transform(pca_val)"
      ],
      "execution_count": null,
      "outputs": []
    },
    {
      "cell_type": "code",
      "metadata": {
        "id": "GpEUZXMxUTYx"
      },
      "source": [
        "pca_train = np.reshape(temp1, (pca_train.shape[0], 28, 28, 1))\n",
        "pca_test = np.reshape(temp2, (pca_test.shape[0], 28, 28, 1))\n",
        "pca_val = np.reshape(temp3, (pca_val.shape[0], 28, 28, 1))"
      ],
      "execution_count": null,
      "outputs": []
    },
    {
      "cell_type": "code",
      "metadata": {
        "colab": {
          "base_uri": "https://localhost:8080/",
          "height": 302
        },
        "id": "rd2L4CiWieSa",
        "outputId": "fb64f283-4bd3-4300-e011-da1ada448f9c"
      },
      "source": [
        "img = pca_train[21]\n",
        "img = img.reshape(img.shape[0], img.shape[1])\n",
        "print(img.shape)\n",
        "plt.imshow(img)"
      ],
      "execution_count": null,
      "outputs": [
        {
          "output_type": "stream",
          "name": "stdout",
          "text": [
            "(28, 28)\n"
          ]
        },
        {
          "output_type": "execute_result",
          "data": {
            "text/plain": [
              "<matplotlib.image.AxesImage at 0x7f0e1b315a50>"
            ]
          },
          "metadata": {},
          "execution_count": 25
        },
        {
          "output_type": "display_data",
          "data": {
            "text/plain": [
              "<Figure size 432x288 with 1 Axes>"
            ],
            "image/png": "[encoded data removed]"
          },
          "metadata": {
            "needs_background": "light"
          }
        }
      ]
    },
    {
      "cell_type": "code",
      "metadata": {
        "colab": {
          "base_uri": "https://localhost:8080/"
        },
        "id": "hPQTCl_JnU1X",
        "outputId": "679d1468-a9d4-4ec5-a5b0-cde6cb1409ed"
      },
      "source": [
        "pca_model = CNN2D()\n",
        "pca_his = pca_model.fit(pca_train, y_train, epochs=20, batch_size=250, validation_data=(pca_val, y_val), verbose=1)"
      ],
      "execution_count": null,
      "outputs": [
        {
          "output_type": "stream",
          "name": "stdout",
          "text": [
            "Epoch 1/20\n",
            "240/240 [==============================] - 49s 203ms/step - loss: 0.6019 - accuracy: 0.7878 - val_loss: 0.4366 - val_accuracy: 0.8393\n",
            "Epoch 2/20\n",
            "240/240 [==============================] - 48s 200ms/step - loss: 0.3881 - accuracy: 0.8602 - val_loss: 0.4172 - val_accuracy: 0.8460\n",
            "Epoch 3/20\n",
            "240/240 [==============================] - 47s 196ms/step - loss: 0.3438 - accuracy: 0.8757 - val_loss: 0.3546 - val_accuracy: 0.8685\n",
            "Epoch 4/20\n",
            "240/240 [==============================] - 47s 196ms/step - loss: 0.3186 - accuracy: 0.8845 - val_loss: 0.3594 - val_accuracy: 0.8668\n",
            "Epoch 5/20\n",
            "240/240 [==============================] - 47s 195ms/step - loss: 0.3041 - accuracy: 0.8899 - val_loss: 0.3430 - val_accuracy: 0.8752\n",
            "Epoch 6/20\n",
            "240/240 [==============================] - 47s 196ms/step - loss: 0.2904 - accuracy: 0.8949 - val_loss: 0.3218 - val_accuracy: 0.8852\n",
            "Epoch 7/20\n",
            "240/240 [==============================] - 47s 196ms/step - loss: 0.2759 - accuracy: 0.9006 - val_loss: 0.3255 - val_accuracy: 0.8825\n",
            "Epoch 8/20\n",
            "240/240 [==============================] - 47s 196ms/step - loss: 0.2671 - accuracy: 0.9028 - val_loss: 0.3206 - val_accuracy: 0.8850\n",
            "Epoch 9/20\n",
            "240/240 [==============================] - 47s 195ms/step - loss: 0.2589 - accuracy: 0.9062 - val_loss: 0.3062 - val_accuracy: 0.8878\n",
            "Epoch 10/20\n",
            "240/240 [==============================] - 47s 195ms/step - loss: 0.2502 - accuracy: 0.9083 - val_loss: 0.3009 - val_accuracy: 0.8875\n",
            "Epoch 11/20\n",
            "240/240 [==============================] - 47s 195ms/step - loss: 0.2403 - accuracy: 0.9124 - val_loss: 0.3080 - val_accuracy: 0.8900\n",
            "Epoch 12/20\n",
            "240/240 [==============================] - 47s 194ms/step - loss: 0.2366 - accuracy: 0.9139 - val_loss: 0.2958 - val_accuracy: 0.8915\n",
            "Epoch 13/20\n",
            "240/240 [==============================] - 46s 194ms/step - loss: 0.2283 - accuracy: 0.9168 - val_loss: 0.3118 - val_accuracy: 0.8863\n",
            "Epoch 14/20\n",
            "240/240 [==============================] - 47s 194ms/step - loss: 0.2213 - accuracy: 0.9207 - val_loss: 0.2887 - val_accuracy: 0.8950\n",
            "Epoch 15/20\n",
            "240/240 [==============================] - 47s 194ms/step - loss: 0.2188 - accuracy: 0.9208 - val_loss: 0.2954 - val_accuracy: 0.8947\n",
            "Epoch 16/20\n",
            "240/240 [==============================] - 47s 194ms/step - loss: 0.2105 - accuracy: 0.9238 - val_loss: 0.2890 - val_accuracy: 0.8978\n",
            "Epoch 17/20\n",
            "240/240 [==============================] - 47s 194ms/step - loss: 0.2057 - accuracy: 0.9249 - val_loss: 0.2948 - val_accuracy: 0.8935\n",
            "Epoch 18/20\n",
            "240/240 [==============================] - 47s 194ms/step - loss: 0.2004 - accuracy: 0.9270 - val_loss: 0.2795 - val_accuracy: 0.8978\n",
            "Epoch 19/20\n",
            "240/240 [==============================] - 47s 194ms/step - loss: 0.1954 - accuracy: 0.9290 - val_loss: 0.2908 - val_accuracy: 0.8965\n",
            "Epoch 20/20\n",
            "240/240 [==============================] - 46s 194ms/step - loss: 0.1916 - accuracy: 0.9312 - val_loss: 0.2966 - val_accuracy: 0.8972\n"
          ]
        }
      ]
    },
    {
      "cell_type": "code",
      "metadata": {
        "id": "RgXTjc79cabq",
        "colab": {
          "base_uri": "https://localhost:8080/"
        },
        "outputId": "7cc12f3c-be8d-47b2-f311-7e6e1afa35f4"
      },
      "source": [
        "pca_model.evaluate(pca_test, y_test, batch_size=250)"
      ],
      "execution_count": null,
      "outputs": [
        {
          "output_type": "stream",
          "name": "stdout",
          "text": [
            "24/24 [==============================] - 0s 4ms/step - loss: 0.2836 - accuracy: 0.9045\n"
          ]
        },
        {
          "output_type": "execute_result",
          "data": {
            "text/plain": [
              "[0.283618301153183, 0.9045000076293945]"
            ]
          },
          "metadata": {},
          "execution_count": 29
        }
      ]
    },
    {
      "cell_type": "code",
      "metadata": {
        "colab": {
          "base_uri": "https://localhost:8080/",
          "height": 591
        },
        "id": "ZLhpoStu187f",
        "outputId": "0e31e48d-4258-422f-b6c6-701fe6ad0191"
      },
      "source": [
        "plot_eval(pca_his)"
      ],
      "execution_count": null,
      "outputs": [
        {
          "output_type": "display_data",
          "data": {
            "text/plain": [
              "<Figure size 432x288 with 1 Axes>"
            ],
            "image/png": "[encoded data removed]"
          },
          "metadata": {
            "needs_background": "light"
          }
        },
        {
          "output_type": "stream",
          "name": "stdout",
          "text": [
            "\n"
          ]
        },
        {
          "output_type": "display_data",
          "data": {
            "text/plain": [
              "<Figure size 432x288 with 1 Axes>"
            ],
            "image/png": "[encoded data removed]"
          },
          "metadata": {
            "needs_background": "light"
          }
        }
      ]
    }
  ]
}