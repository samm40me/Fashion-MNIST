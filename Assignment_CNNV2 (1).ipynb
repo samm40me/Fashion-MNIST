{
  "nbformat": 4,
  "nbformat_minor": 0,
  "metadata": {
    "colab": {
      "provenance": []
    },
    "kernelspec": {
      "name": "python3",
      "display_name": "Python 3"
    },
    "language_info": {
      "name": "python"
    }
  },
  "cells": [
    {
      "cell_type": "markdown",
      "source": [
        "# **Fashion-MNIST**"
      ],
      "metadata": {
        "id": "9D5-BxFZdf0y"
      }
    },
    {
      "cell_type": "markdown",
      "source": [
        "# Assignment\n",
        "\n",
        "In most real-world applications, labelled data is scarce. Suppose you are given\n",
        "the Fashion-MNIST dataset (https://github.com/zalandoresearch/fashion-mnist), but without any labels\n",
        "in the training set. The labels are held in a database, which you may query to reveal the label of any particular image it contains. Your task is to build a classifier to >90% accuracy on the test set, using the smallest number of queries to this >database. "
      ],
      "metadata": {
        "id": "fkEKt7DUdzsw"
      }
    },
    {
      "cell_type": "markdown",
      "source": [
        "**Models Used**\n",
        "\n",
        "This solutions use the CNN model:"
      ],
      "metadata": {
        "id": "vYDlkWqUuRVU"
      }
    },
    {
      "cell_type": "markdown",
      "source": [
        "# Import Libraries "
      ],
      "metadata": {
        "id": "tRUWCEo1eDQQ"
      }
    },
    {
      "cell_type": "markdown",
      "source": [
        "I begin by importing necessary packages, modules, and functions"
      ],
      "metadata": {
        "id": "5W1p0cZIgT69"
      }
    },
    {
      "cell_type": "code",
      "source": [
        "# set the matplotlib backend so figures can be saved in the background\n",
        "import matplotlib\n",
        "matplotlib.use(\"Agg\")\n",
        "# import the necessary packages\n",
        "#from pyimagesearch.minivggnet import MiniVGGNet\n",
        "from sklearn.metrics import classification_report\n",
        "from tensorflow.keras.optimizers import SGD\n",
        "from tensorflow.keras.datasets import fashion_mnist\n",
        "from tensorflow.keras.utils import to_categorical\n",
        "from tensorflow.keras import backend as K\n",
        "from imutils import build_montages\n",
        "import matplotlib.pyplot as plt\n",
        "import numpy as np\n",
        "import cv2\n",
        "# initialize the number of epochs to train for, base learning rate,\n",
        "# and batch size\n",
        "NUM_EPOCHS = 25\n",
        "INIT_LR = 1e-2\n",
        "BS = 32"
      ],
      "metadata": {
        "id": "yG1AAWHv0VLq"
      },
      "execution_count": null,
      "outputs": []
    },
    {
      "cell_type": "markdown",
      "source": [
        "I will be defining a very simple Convolutional Neural Network to train on the Fashion MNIST dataset. However, I will be taking advantage of batch normalization and dropout which are two methods I nearly always recommend."
      ],
      "metadata": {
        "id": "hEsM-yiiezEz"
      }
    },
    {
      "cell_type": "code",
      "source": [
        "# import the necessary packages\n",
        "from tensorflow.keras.models import Sequential\n",
        "from tensorflow.keras.layers import BatchNormalization\n",
        "from tensorflow.keras.layers import Conv2D\n",
        "from tensorflow.keras.layers import MaxPooling2D\n",
        "from tensorflow.keras.layers import Activation\n",
        "from tensorflow.keras.layers import Flatten\n",
        "from tensorflow.keras.layers import Dropout\n",
        "from tensorflow.keras.layers import Dense\n",
        "from tensorflow.keras import backend as K\n",
        "class MiniVGGNet:\n",
        "\t@staticmethod\n",
        "\tdef build(width, height, depth, classes):\n",
        "\t\t# initialize the model along with the input shape to be\n",
        "\t\t# \"channels last\" and the channels dimension itself\n",
        "\t\tmodel = Sequential()\n",
        "\t\tinputShape = (height, width, depth)\n",
        "\t\tchanDim = -1\n",
        "\t\t# if we are using \"channels first\", update the input shape\n",
        "\t\t# and channels dimension\n",
        "\t\tif K.image_data_format() == \"channels_first\":\n",
        "\t\t\tinputShape = (depth, height, width)\n",
        "\t\t\tchanDim = 1\n",
        "\t\t# first CONV => RELU => CONV => RELU => POOL layer set\n",
        "\t\tmodel.add(Conv2D(32, (3, 3), padding=\"same\",\n",
        "\t\t\tinput_shape=inputShape))\n",
        "\t\tmodel.add(Activation(\"relu\"))\n",
        "\t\tmodel.add(BatchNormalization(axis=chanDim))\n",
        "\t\tmodel.add(Conv2D(32, (3, 3), padding=\"same\"))\n",
        "\t\tmodel.add(Activation(\"relu\"))\n",
        "\t\tmodel.add(BatchNormalization(axis=chanDim))\n",
        "\t\tmodel.add(MaxPooling2D(pool_size=(2, 2)))\n",
        "\t\tmodel.add(Dropout(0.25))\n",
        "\t\t# second CONV => RELU => CONV => RELU => POOL layer set\n",
        "\t\tmodel.add(Conv2D(64, (3, 3), padding=\"same\"))\n",
        "\t\tmodel.add(Activation(\"relu\"))\n",
        "\t\tmodel.add(BatchNormalization(axis=chanDim))\n",
        "\t\tmodel.add(Conv2D(64, (3, 3), padding=\"same\"))\n",
        "\t\tmodel.add(Activation(\"relu\"))\n",
        "\t\tmodel.add(BatchNormalization(axis=chanDim))\n",
        "\t\tmodel.add(MaxPooling2D(pool_size=(2, 2)))\n",
        "\t\tmodel.add(Dropout(0.25))\n",
        "\t\t# first (and only) set of FC => RELU layers\n",
        "\t\tmodel.add(Flatten())\n",
        "\t\tmodel.add(Dense(512))\n",
        "\t\tmodel.add(Activation(\"relu\"))\n",
        "\t\tmodel.add(BatchNormalization())\n",
        "\t\tmodel.add(Dropout(0.5))\n",
        "\t\t# softmax classifier\n",
        "\t\tmodel.add(Dense(classes))\n",
        "\t\tmodel.add(Activation(\"softmax\"))\n",
        "\t\t# return the constructed network architecture\n",
        "\t\treturn model            "
      ],
      "metadata": {
        "id": "8exSdL1bBzzy"
      },
      "execution_count": null,
      "outputs": []
    },
    {
      "cell_type": "code",
      "source": [
        "import datetime\n",
        "import pandas as pd\n",
        "import sqlalchemy\n",
        "from sqlalchemy import create_engine\n",
        "from sqlalchemy.sql import text, func\n",
        "from sqlalchemy.orm import sessionmaker,relationship\n",
        "from sqlalchemy.ext.declarative import declarative_base\n",
        "from sqlalchemy import Column, String, Integer, Float, TIMESTAMP"
      ],
      "metadata": {
        "id": "_ZGnCuSSo38X"
      },
      "execution_count": null,
      "outputs": []
    },
    {
      "cell_type": "code",
      "source": [
        "from google.colab import drive\n",
        "drive.mount('/content/drive')"
      ],
      "metadata": {
        "colab": {
          "base_uri": "https://localhost:8080/"
        },
        "id": "glxX1D6UoX0y",
        "outputId": "51811e11-1a32-474b-af0e-a4fb30d93130"
      },
      "execution_count": null,
      "outputs": [
        {
          "output_type": "stream",
          "name": "stdout",
          "text": [
            "Mounted at /content/drive\n"
          ]
        }
      ]
    },
    {
      "cell_type": "code",
      "source": [
        "from sqlalchemy import create_engine\n",
        "from sqlalchemy.exc import SQLAlchemyError\n",
        "try:\n",
        "    my_conn.execute('''\n",
        "        CREATE TABLE IF NOT EXISTS fashion_mnist2(\n",
        "                      name text \n",
        "                      );''')  \n",
        "except SQLAlchemyError as e:\n",
        "  #print(e)\n",
        "  error = str(e.__dict__['orig'])\n",
        "  print(error)\n",
        "else:\n",
        "  print(\"fashion_mnist3 Table created successfully..\")"
      ],
      "metadata": {
        "colab": {
          "base_uri": "https://localhost:8080/",
          "height": 235
        },
        "id": "QlrwxK0DgGpE",
        "outputId": "d619f91d-eaeb-439b-ae70-e55bf96b7006"
      },
      "execution_count": null,
      "outputs": [
        {
          "output_type": "error",
          "ename": "NameError",
          "evalue": "ignored",
          "traceback": [
            "\u001b[0;31m---------------------------------------------------------------------------\u001b[0m",
            "\u001b[0;31mNameError\u001b[0m                                 Traceback (most recent call last)",
            "\u001b[0;32m<ipython-input-5-4f1e144041aa>\u001b[0m in \u001b[0;36m<module>\u001b[0;34m\u001b[0m\n\u001b[1;32m      2\u001b[0m \u001b[0;32mfrom\u001b[0m \u001b[0msqlalchemy\u001b[0m\u001b[0;34m.\u001b[0m\u001b[0mexc\u001b[0m \u001b[0;32mimport\u001b[0m \u001b[0mSQLAlchemyError\u001b[0m\u001b[0;34m\u001b[0m\u001b[0;34m\u001b[0m\u001b[0m\n\u001b[1;32m      3\u001b[0m \u001b[0;32mtry\u001b[0m\u001b[0;34m:\u001b[0m\u001b[0;34m\u001b[0m\u001b[0;34m\u001b[0m\u001b[0m\n\u001b[0;32m----> 4\u001b[0;31m     my_conn.execute('''\n\u001b[0m\u001b[1;32m      5\u001b[0m         CREATE TABLE IF NOT EXISTS fashion_mnist2(\n\u001b[1;32m      6\u001b[0m                       \u001b[0mname\u001b[0m \u001b[0mtext\u001b[0m\u001b[0;34m\u001b[0m\u001b[0;34m\u001b[0m\u001b[0m\n",
            "\u001b[0;31mNameError\u001b[0m: name 'my_conn' is not defined"
          ]
        }
      ]
    },
    {
      "cell_type": "code",
      "source": [
        "from sqlalchemy import create_engine \n",
        "from sqlalchemy.exc import SQLAlchemyError\n",
        "my_conn = create_engine(\"sqlite:////content/drive/MyDrive/my_db/my_db.db\")\n",
        "try:\n",
        "    my_conn.execute('''\n",
        "        CREATE TABLE IF NOT EXISTS fashion_mnist3( \n",
        "            name text\n",
        "                      );''')  \n",
        "except SQLAlchemyError as e:\n",
        "  #print(e)\n",
        "  error = str(e.__dict__['orig'])\n",
        "  print(error)\n",
        "else:\n",
        "  print(\"fashion_mnist2 Table created successfully..\")\n",
        "try:\n",
        "  r_set=my_conn.execute('''INSERT INTO `fashion_mnist3` \n",
        "  \n",
        "  ('name') VALUES ('TShirt/Top',\n",
        "           'Trouser',\n",
        "            'Pullover',\n",
        "            'Dress',\n",
        "            'Coat',\n",
        "            'Sandal',\n",
        "            'Shirt',\n",
        "            'Sneaker',\n",
        "            'Bag',\n",
        "            'Ankle Boot');''')\n",
        "except SQLAlchemyError as e:\n",
        "  #print(e)\n",
        "  error = str(e.__dict__['orig'])\n",
        "  print(error)\n",
        "else:\n",
        "  print(\"No of Records added : \",r_set2.rowcount)"
      ],
      "metadata": {
        "colab": {
          "base_uri": "https://localhost:8080/"
        },
        "id": "xHwallDbv432",
        "outputId": "4d4ab3ba-a862-4238-c348-0d071d6ad7b2"
      },
      "execution_count": null,
      "outputs": [
        {
          "output_type": "stream",
          "name": "stdout",
          "text": [
            "fashion_mnist2 Table created successfully..\n",
            "10 values for 1 columns\n"
          ]
        }
      ]
    },
    {
      "cell_type": "code",
      "source": [
        "r_set2=my_conn.execute('''SELECT * from fashion_mnist2''');\n",
        "for row in r_set2:\n",
        "    print(row)"
      ],
      "metadata": {
        "colab": {
          "base_uri": "https://localhost:8080/"
        },
        "id": "2CDOFY7RwJkl",
        "outputId": "70ae97ba-5a40-4dcd-daf5-18f6b85c66c2"
      },
      "execution_count": null,
      "outputs": [
        {
          "output_type": "stream",
          "name": "stdout",
          "text": [
            "('TShirt/Top',)\n",
            "('Trouser',)\n",
            "('Pullover',)\n",
            "('Dress',)\n",
            "('Coat',)\n",
            "('Sandal',)\n",
            "('Shirt',)\n",
            "('Sneaker',)\n",
            "('Bag',)\n",
            "('Ankle Boot',)\n"
          ]
        }
      ]
    },
    {
      "cell_type": "code",
      "source": [
        "# import necessary packages\n",
        "import pandas as pd\n",
        "import psycopg2\n",
        "from sqlalchemy import create_engine\n",
        "\n",
        "# establish connection with the database\n",
        "#engine = create_engine(\n",
        "#\t\"dialect+driver//username:password@hostname:portnumber/databasename\")\n",
        "\n",
        "# read table data using sql query\n",
        "sql_df = pd.read_sql(\n",
        "\t\"SELECT * FROM fashion_mnist2\",\n",
        "\tcon=my_conn\n",
        ")\n",
        "\n",
        "print(sql_df)"
      ],
      "metadata": {
        "colab": {
          "base_uri": "https://localhost:8080/"
        },
        "id": "y-uKCjMz_5t2",
        "outputId": "c8e96b52-8e07-4205-a0b5-348875302d91"
      },
      "execution_count": null,
      "outputs": [
        {
          "output_type": "stream",
          "name": "stdout",
          "text": [
            "         name\n",
            "0  TShirt/Top\n",
            "1     Trouser\n",
            "2    Pullover\n",
            "3       Dress\n",
            "4        Coat\n",
            "5      Sandal\n",
            "6       Shirt\n",
            "7     Sneaker\n",
            "8         Bag\n",
            "9  Ankle Boot\n"
          ]
        }
      ]
    },
    {
      "cell_type": "code",
      "source": [
        "data = pd.Series(sql_df['name'].head(15))\n",
        "print(data.to_numpy(dtype ='str'))"
      ],
      "metadata": {
        "colab": {
          "base_uri": "https://localhost:8080/"
        },
        "id": "_0XqCZSHoz2x",
        "outputId": "d67068b2-0d7d-4db5-b0eb-e71e3ad3406d"
      },
      "execution_count": null,
      "outputs": [
        {
          "output_type": "stream",
          "name": "stdout",
          "text": [
            "['TShirt/Top' 'Trouser' 'Pullover' 'Dress' 'Coat' 'Sandal' 'Shirt'\n",
            " 'Sneaker' 'Bag' 'Ankle Boot']\n"
          ]
        }
      ]
    },
    {
      "cell_type": "code",
      "source": [
        "data =  data.tolist()\n",
        "print(data)"
      ],
      "metadata": {
        "colab": {
          "base_uri": "https://localhost:8080/"
        },
        "id": "nZvH-ZHk0EXS",
        "outputId": "00759b99-948b-409e-d479-72c021900f4e"
      },
      "execution_count": null,
      "outputs": [
        {
          "output_type": "stream",
          "name": "stdout",
          "text": [
            "['TShirt/Top', 'Trouser', 'Pullover', 'Dress', 'Coat', 'Sandal', 'Shirt', 'Sneaker', 'Bag', 'Ankle Boot']\n"
          ]
        }
      ]
    },
    {
      "cell_type": "markdown",
      "source": [
        "The model has two sets of (CONV => RELU => BN) * 2 => POOL layers. These layer sets also include batch normalization and dropout.\n",
        "\n",
        "Pooling layers help to progressively reduce the spatial dimensions of the input volume.\n",
        "\n",
        "Batch normalization seeks to normalize the activations of a given input volume before passing it into the next layer. It is effective at reducing the number of epochs required to train a CNN at the expense of an increase in per-epoch time.\n",
        "\n",
        "Dropout is a form of regularization that aims to prevent overfitting. Random connections are dropped to ensure that no single node in the network is responsible for activating when presented with a given pattern.\n",
        "\n",
        "What follows is a fully-connected layer and softmax classifier. The softmax classifier is used to obtain output classification probabilities"
      ],
      "metadata": {
        "id": "vO3rDHsifXwc"
      }
    },
    {
      "cell_type": "markdown",
      "source": [
        "# Get Data"
      ],
      "metadata": {
        "id": "3tC_JdUqeO20"
      }
    },
    {
      "cell_type": "code",
      "source": [
        "from tensorflow.keras.datasets import fashion_mnist\n",
        "(X_train, y_train), (X_test, y_test) = fashion_mnist.load_data()"
      ],
      "metadata": {
        "colab": {
          "base_uri": "https://localhost:8080/"
        },
        "id": "UanWIhWazRcD",
        "outputId": "db0424fb-3a5a-40db-8ed5-2b2bdf23c3ce"
      },
      "execution_count": null,
      "outputs": [
        {
          "output_type": "stream",
          "name": "stdout",
          "text": [
            "Downloading data from https://storage.googleapis.com/tensorflow/tf-keras-datasets/train-labels-idx1-ubyte.gz\n",
            "29515/29515 [==============================] - 0s 0us/step\n",
            "Downloading data from https://storage.googleapis.com/tensorflow/tf-keras-datasets/train-images-idx3-ubyte.gz\n",
            "26421880/26421880 [==============================] - 0s 0us/step\n",
            "Downloading data from https://storage.googleapis.com/tensorflow/tf-keras-datasets/t10k-labels-idx1-ubyte.gz\n",
            "5148/5148 [==============================] - 0s 0us/step\n",
            "Downloading data from https://storage.googleapis.com/tensorflow/tf-keras-datasets/t10k-images-idx3-ubyte.gz\n",
            "4422102/4422102 [==============================] - 0s 0us/step\n"
          ]
        }
      ]
    },
    {
      "cell_type": "markdown",
      "source": [
        "The dataset is loaded  and reshaped"
      ],
      "metadata": {
        "id": "5qXhvQ_9gnOv"
      }
    },
    {
      "cell_type": "code",
      "execution_count": null,
      "metadata": {
        "colab": {
          "base_uri": "https://localhost:8080/"
        },
        "id": "gi1gwgDexckS",
        "outputId": "e78c8987-21b0-4866-ad2d-6d4b9c1bec93"
      },
      "outputs": [
        {
          "output_type": "stream",
          "name": "stdout",
          "text": [
            "[INFO] loading Fashion MNIST...\n"
          ]
        }
      ],
      "source": [
        "# grab the Fashion MNIST dataset (if this is your first time running\n",
        "# this the dataset will be automatically downloaded)\n",
        "print(\"[INFO] loading Fashion MNIST...\")\n",
        "((trainX, trainY), (testX, testY)) = fashion_mnist.load_data()\n",
        "# if we are using \"channels first\" ordering, then reshape the design\n",
        "# matrix such that the matrix is:\n",
        "# \tnum_samples x depth x rows x columns\n",
        "if K.image_data_format() == \"channels_first\":\n",
        "\ttrainX = trainX.reshape((trainX.shape[0], 1, 28, 28))\n",
        "\ttestX = testX.reshape((testX.shape[0], 1, 28, 28))\n",
        " \n",
        "# otherwise, we are using \"channels last\" ordering, so the design\n",
        "# matrix shape should be: num_samples x rows x columns x depth\n",
        "else:\n",
        "\ttrainX = trainX.reshape((trainX.shape[0], 28, 28, 1))\n",
        "\ttestX = testX.reshape((testX.shape[0], 28, 28, 1))"
      ]
    },
    {
      "cell_type": "markdown",
      "source": [
        "# Pre-Processing"
      ],
      "metadata": {
        "id": "UQvo5JvBhZzt"
      }
    },
    {
      "cell_type": "code",
      "source": [
        "# scale data to the range of [0, 1]\n",
        "trainX = trainX.astype(\"float32\") / 255.0\n",
        "testX = testX.astype(\"float32\") / 255.0\n",
        "# one-hot encode the training and testing labels\n",
        "trainY = to_categorical(trainY, 10)\n",
        "testY = to_categorical(testY, 10)\n",
        "# initialize the label names\n",
        "labelNames = data"
      ],
      "metadata": {
        "id": "pY8fSfWDEZGQ"
      },
      "execution_count": null,
      "outputs": []
    },
    {
      "cell_type": "markdown",
      "source": [
        "Here the pixel intensities are scaled to the range [0, 1]. I then one-hot encode the labels."
      ],
      "metadata": {
        "id": "f4zU3-PRhvq6"
      }
    },
    {
      "cell_type": "code",
      "source": [
        "# initialize the optimizer and model\n",
        "print(\"[INFO] compiling model...\")\n",
        "opt = SGD(lr=INIT_LR, momentum=0.9, decay=INIT_LR / NUM_EPOCHS)\n",
        "model = MiniVGGNet.build(width=28, height=28, depth=1, classes=10)\n",
        "model.compile(loss=\"categorical_crossentropy\", optimizer=opt,\n",
        "\tmetrics=[\"accuracy\"])\n",
        "# train the network\n",
        "print(\"[INFO] training model...\")\n",
        "H = model.fit(x=trainX, y=trainY,\n",
        "\tvalidation_data=(testX, testY),\n",
        "\tbatch_size=BS, epochs=NUM_EPOCHS)"
      ],
      "metadata": {
        "colab": {
          "base_uri": "https://localhost:8080/"
        },
        "id": "nSYZuxJ2Ee3g",
        "outputId": "a0671ecc-cc12-465a-9a96-6579932dcf9c"
      },
      "execution_count": null,
      "outputs": [
        {
          "output_type": "stream",
          "name": "stdout",
          "text": [
            "[INFO] compiling model...\n"
          ]
        },
        {
          "output_type": "stream",
          "name": "stderr",
          "text": [
            "/usr/local/lib/python3.7/dist-packages/keras/optimizers/optimizer_v2/gradient_descent.py:108: UserWarning: The `lr` argument is deprecated, use `learning_rate` instead.\n",
            "  super(SGD, self).__init__(name, **kwargs)\n"
          ]
        },
        {
          "output_type": "stream",
          "name": "stdout",
          "text": [
            "[INFO] training model...\n",
            "Epoch 1/25\n",
            "1875/1875 [==============================] - 312s 166ms/step - loss: 0.5254 - accuracy: 0.8247 - val_loss: 0.4758 - val_accuracy: 0.8589\n",
            "Epoch 2/25\n",
            "1875/1875 [==============================] - 307s 164ms/step - loss: 0.3349 - accuracy: 0.8797 - val_loss: 0.2736 - val_accuracy: 0.9004\n",
            "Epoch 3/25\n",
            "1875/1875 [==============================] - 310s 165ms/step - loss: 0.2872 - accuracy: 0.8974 - val_loss: 0.2498 - val_accuracy: 0.9084\n",
            "Epoch 4/25\n",
            "1875/1875 [==============================] - 310s 165ms/step - loss: 0.2700 - accuracy: 0.9037 - val_loss: 0.2316 - val_accuracy: 0.9150\n",
            "Epoch 5/25\n",
            "1875/1875 [==============================] - 308s 164ms/step - loss: 0.2512 - accuracy: 0.9092 - val_loss: 0.2251 - val_accuracy: 0.9156\n",
            "Epoch 6/25\n",
            "1875/1875 [==============================] - 310s 165ms/step - loss: 0.2372 - accuracy: 0.9150 - val_loss: 0.2206 - val_accuracy: 0.9180\n",
            "Epoch 7/25\n",
            "1875/1875 [==============================] - 309s 165ms/step - loss: 0.2292 - accuracy: 0.9161 - val_loss: 0.2163 - val_accuracy: 0.9198\n",
            "Epoch 8/25\n",
            "1875/1875 [==============================] - 312s 166ms/step - loss: 0.2215 - accuracy: 0.9186 - val_loss: 0.2100 - val_accuracy: 0.9226\n",
            "Epoch 9/25\n",
            "1875/1875 [==============================] - 312s 166ms/step - loss: 0.2173 - accuracy: 0.9205 - val_loss: 0.2175 - val_accuracy: 0.9188\n",
            "Epoch 10/25\n",
            "1875/1875 [==============================] - 310s 165ms/step - loss: 0.2127 - accuracy: 0.9214 - val_loss: 0.2046 - val_accuracy: 0.9247\n",
            "Epoch 11/25\n",
            "1875/1875 [==============================] - 312s 167ms/step - loss: 0.2073 - accuracy: 0.9243 - val_loss: 0.2037 - val_accuracy: 0.9256\n",
            "Epoch 12/25\n",
            "1875/1875 [==============================] - 312s 166ms/step - loss: 0.2036 - accuracy: 0.9265 - val_loss: 0.2012 - val_accuracy: 0.9273\n",
            "Epoch 13/25\n",
            "1875/1875 [==============================] - 312s 166ms/step - loss: 0.2015 - accuracy: 0.9263 - val_loss: 0.1989 - val_accuracy: 0.9270\n",
            "Epoch 14/25\n",
            "1875/1875 [==============================] - 312s 166ms/step - loss: 0.1962 - accuracy: 0.9283 - val_loss: 0.2025 - val_accuracy: 0.9252\n",
            "Epoch 15/25\n",
            "1875/1875 [==============================] - 314s 167ms/step - loss: 0.1945 - accuracy: 0.9303 - val_loss: 0.2034 - val_accuracy: 0.9240\n",
            "Epoch 16/25\n",
            "1875/1875 [==============================] - 310s 165ms/step - loss: 0.1914 - accuracy: 0.9309 - val_loss: 0.1955 - val_accuracy: 0.9284\n",
            "Epoch 17/25\n",
            "1875/1875 [==============================] - 311s 166ms/step - loss: 0.1863 - accuracy: 0.9312 - val_loss: 0.1953 - val_accuracy: 0.9283\n",
            "Epoch 18/25\n",
            "1875/1875 [==============================] - 308s 164ms/step - loss: 0.1849 - accuracy: 0.9323 - val_loss: 0.1961 - val_accuracy: 0.9285\n",
            "Epoch 19/25\n",
            "1875/1875 [==============================] - 310s 165ms/step - loss: 0.1836 - accuracy: 0.9329 - val_loss: 0.1941 - val_accuracy: 0.9291\n",
            "Epoch 20/25\n",
            "1875/1875 [==============================] - 310s 166ms/step - loss: 0.1813 - accuracy: 0.9345 - val_loss: 0.1957 - val_accuracy: 0.9280\n",
            "Epoch 21/25\n",
            "1875/1875 [==============================] - 310s 166ms/step - loss: 0.1805 - accuracy: 0.9338 - val_loss: 0.2021 - val_accuracy: 0.9255\n",
            "Epoch 22/25\n",
            "1875/1875 [==============================] - 311s 166ms/step - loss: 0.1766 - accuracy: 0.9357 - val_loss: 0.1904 - val_accuracy: 0.9300\n",
            "Epoch 23/25\n",
            "1875/1875 [==============================] - 312s 166ms/step - loss: 0.1779 - accuracy: 0.9349 - val_loss: 0.1929 - val_accuracy: 0.9295\n",
            "Epoch 24/25\n",
            "1875/1875 [==============================] - 311s 166ms/step - loss: 0.1749 - accuracy: 0.9351 - val_loss: 0.1924 - val_accuracy: 0.9286\n",
            "Epoch 25/25\n",
            "1875/1875 [==============================] - 312s 166ms/step - loss: 0.1723 - accuracy: 0.9370 - val_loss: 0.1907 - val_accuracy: 0.9305\n"
          ]
        }
      ]
    },
    {
      "cell_type": "markdown",
      "source": [
        "I initialized and compiled the model with the Stochastic Gradient Descent (SGD ) optimizer and learning rate decay.From there the model is trained via the call to model.fit.After training for NUM_EPOCHS , I then evaluate the  network and generate a training plot:"
      ],
      "metadata": {
        "id": "z0hUqQ2CihVV"
      }
    },
    {
      "cell_type": "code",
      "source": [
        "# make predictions on the test set\n",
        "preds = model.predict(testX)\n",
        "# show a nicely formatted classification report\n",
        "print(\"[INFO] evaluating network...\")\n",
        "print(classification_report(testY.argmax(axis=1), preds.argmax(axis=1),\n",
        "\ttarget_names=labelNames))\n",
        "# plot the training loss and accuracy\n",
        "N = NUM_EPOCHS\n",
        "plt.style.use(\"ggplot\")\n",
        "plt.figure()\n",
        "plt.plot(np.arange(0, N), H.history[\"loss\"], label=\"train_loss\")\n",
        "plt.plot(np.arange(0, N), H.history[\"val_loss\"], label=\"val_loss\")\n",
        "plt.plot(np.arange(0, N), H.history[\"accuracy\"], label=\"train_acc\")\n",
        "plt.plot(np.arange(0, N), H.history[\"val_accuracy\"], label=\"val_acc\")\n",
        "plt.title(\"Training Loss and Accuracy on Dataset\")\n",
        "plt.xlabel(\"Epoch #\")\n",
        "plt.ylabel(\"Loss/Accuracy\")\n",
        "plt.legend(loc=\"lower left\")\n",
        "plt.savefig(\"plot.png\")"
      ],
      "metadata": {
        "id": "qmjbHNwWK9tI",
        "outputId": "861d6f53-dda4-440b-b64a-1638cfd38681",
        "colab": {
          "base_uri": "https://localhost:8080/"
        }
      },
      "execution_count": null,
      "outputs": [
        {
          "output_type": "stream",
          "name": "stdout",
          "text": [
            "313/313 [==============================] - 18s 57ms/step\n",
            "[INFO] evaluating network...\n",
            "              precision    recall  f1-score   support\n",
            "\n",
            "  TShirt/Top       0.90      0.85      0.87      1000\n",
            "     Trouser       1.00      0.98      0.99      1000\n",
            "    Pullover       0.93      0.89      0.91      1000\n",
            "       Dress       0.93      0.94      0.93      1000\n",
            "        Coat       0.89      0.90      0.89      1000\n",
            "      Sandal       0.99      0.98      0.99      1000\n",
            "       Shirt       0.76      0.82      0.79      1000\n",
            "     Sneaker       0.96      0.98      0.97      1000\n",
            "         Bag       0.99      0.99      0.99      1000\n",
            "  Ankle Boot       0.98      0.96      0.97      1000\n",
            "\n",
            "    accuracy                           0.93     10000\n",
            "   macro avg       0.93      0.93      0.93     10000\n",
            "weighted avg       0.93      0.93      0.93     10000\n",
            "\n"
          ]
        }
      ]
    },
    {
      "cell_type": "markdown",
      "source": [
        "# Visualize Result"
      ],
      "metadata": {
        "id": "93LW-Ye7jGIx"
      }
    },
    {
      "cell_type": "markdown",
      "source": [
        "Now let’s add a colored label to each image and arrange them in a montage:"
      ],
      "metadata": {
        "id": "UdyAaWNKjgnD"
      }
    },
    {
      "cell_type": "code",
      "source": [
        "from google.colab.patches import cv2_imshow\n",
        "import matplotlib.pyplot as plt\n",
        "# initialize our list of output images\n",
        "images = []\n",
        "# randomly select a few testing fashion items\n",
        "for i in np.random.choice(np.arange(0, len(testY)), size=(16,)):\n",
        "\t# classify the clothing\n",
        "\tprobs = model.predict(testX[np.newaxis, i])\n",
        "\tprediction = probs.argmax(axis=1)\n",
        "\tlabel = labelNames[prediction[0]]\n",
        " \n",
        "\t# extract the image from the testData if using \"channels_first\"\n",
        "\t# ordering\n",
        "\tif K.image_data_format() == \"channels_first\":\n",
        "\t\timage = (testX[i][0] * 255).astype(\"uint8\")\n",
        " \n",
        "\t# otherwise we are using \"channels_last\" ordering\n",
        "\telse:\n",
        "\t\timage = (testX[i] * 255).astype(\"uint8\")\n",
        "\t# initialize the text label color as green (correct)\n",
        "\tcolor = (0, 255, 0)\n",
        "\t# otherwise, the class label prediction is incorrect\n",
        "\tif prediction[0] != np.argmax(testY[i]):\n",
        "\t\tcolor = (0, 0, 255)\n",
        " \n",
        "\t# merge the channels into one image and resize the image from\n",
        "\t# 28x28 to 96x96 so we can better see it and then draw the\n",
        "\t# predicted label on the image\n",
        "\timage = cv2.merge([image] * 3)\n",
        "\timage = cv2.resize(image, (96, 96), interpolation=cv2.INTER_LINEAR)\n",
        "\tcv2.putText(image, label, (5, 20), cv2.FONT_HERSHEY_SIMPLEX, 0.75,\n",
        "\t\tcolor, 2)\n",
        "\t# add the image to our list of output images\n",
        "\timages.append(image)\n",
        "# construct the montage for the images\n",
        "montage = build_montages(images, (96, 96), (4, 4))[0]\n",
        "# show the output montage\n",
        "\n",
        "cv2_imshow(montage)\n",
        "cv2.waitKey(0)  "
      ],
      "metadata": {
        "id": "gmAsvPEQjWTB",
        "outputId": "f10d0887-b3fb-4c14-e42b-092ec28ce2a2",
        "colab": {
          "base_uri": "https://localhost:8080/",
          "height": 696
        }
      },
      "execution_count": null,
      "outputs": [
        {
          "output_type": "stream",
          "name": "stdout",
          "text": [
            "1/1 [==============================] - 0s 19ms/step\n",
            "1/1 [==============================] - 0s 18ms/step\n",
            "1/1 [==============================] - 0s 22ms/step\n",
            "1/1 [==============================] - 0s 17ms/step\n",
            "1/1 [==============================] - 0s 16ms/step\n",
            "1/1 [==============================] - 0s 18ms/step\n",
            "1/1 [==============================] - 0s 22ms/step\n",
            "1/1 [==============================] - 0s 17ms/step\n",
            "1/1 [==============================] - 0s 17ms/step\n",
            "1/1 [==============================] - 0s 16ms/step\n",
            "1/1 [==============================] - 0s 20ms/step\n",
            "1/1 [==============================] - 0s 23ms/step\n",
            "1/1 [==============================] - 0s 17ms/step\n",
            "1/1 [==============================] - 0s 20ms/step\n",
            "1/1 [==============================] - 0s 19ms/step\n",
            "1/1 [==============================] - 0s 18ms/step\n"
          ]
        },
        {
          "output_type": "display_data",
          "data": {
            "text/plain": [
              "<PIL.Image.Image image mode=RGB size=384x384 at 0x7F1885B51F50>"
            ],
            "image/png": "[encoded data removed]"
          },
          "metadata": {}
        },
        {
          "output_type": "execute_result",
          "data": {
            "text/plain": [
              "-1"
            ]
          },
          "metadata": {},
          "execution_count": 19
        }
      ]
    }
  ]
}